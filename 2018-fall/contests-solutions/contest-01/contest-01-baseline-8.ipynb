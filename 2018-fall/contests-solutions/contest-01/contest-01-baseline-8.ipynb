{
 "cells": [
  {
   "cell_type": "code",
   "execution_count": 1,
   "metadata": {
    "collapsed": true
   },
   "outputs": [],
   "source": [
    "from sklearn.feature_extraction.text import HashingVectorizer\n",
    "from sklearn.feature_extraction.text import TfidfTransformer\n",
    "from sklearn.linear_model import SGDClassifier\n",
    "from sklearn.metrics import roc_auc_score\n",
    "\n",
    "import numpy as np\n",
    "import scipy as sc\n",
    "\n",
    "import itertools\n",
    "import re"
   ]
  },
  {
   "cell_type": "code",
   "execution_count": 2,
   "metadata": {
    "collapsed": true
   },
   "outputs": [],
   "source": [
    "def load_y(path):\n",
    "    labels = []\n",
    "    \n",
    "    with open(path) as lines:\n",
    "        next(lines)\n",
    "        for line in lines:\n",
    "            i, label = line.split(',')\n",
    "            labels.append(float(label))\n",
    "        \n",
    "    return np.array(labels, np.float32)\n",
    "\n",
    "y_train = load_y('y_train.csv')\n",
    "y_test = load_y('y_test.csv')"
   ]
  },
  {
   "cell_type": "code",
   "execution_count": 4,
   "metadata": {},
   "outputs": [
    {
     "name": "stdout",
     "output_type": "stream",
     "text": [
      "CPU times: user 16min 17s, sys: 15 s, total: 16min 32s\n",
      "Wall time: 15min 49s\n"
     ]
    }
   ],
   "source": [
    "%%time\n",
    "\n",
    "pattern = re.compile('[\\.\\,\\?\\!\\'\\\"\\t\\n\\r\\f\\v\\ ]+')\n",
    "\n",
    "vectorizer = HashingVectorizer(\n",
    "    n_features = 2**24,\n",
    "    lowercase=True,\n",
    "    tokenizer = lambda s: pattern.split(s),\n",
    "    ngram_range=(1, 3),\n",
    "    analyzer='word',\n",
    "    dtype=np.float32\n",
    ")\n",
    "\n",
    "with open('x_train.txt') as train, open('x_test.txt') as test:\n",
    "    x = vectorizer.fit_transform(itertools.chain(train, test))"
   ]
  },
  {
   "cell_type": "code",
   "execution_count": 5,
   "metadata": {},
   "outputs": [
    {
     "name": "stdout",
     "output_type": "stream",
     "text": [
      "CPU times: user 9min 14s, sys: 22 s, total: 9min 36s\n",
      "Wall time: 9min 15s\n"
     ]
    }
   ],
   "source": [
    "%%time\n",
    "x = TfidfTransformer().fit_transform(x)"
   ]
  },
  {
   "cell_type": "code",
   "execution_count": 6,
   "metadata": {},
   "outputs": [],
   "source": [
    "size = 3600000\n",
    "x_train, x_test = x[:size], x[size:]"
   ]
  },
  {
   "cell_type": "code",
   "execution_count": 7,
   "metadata": {},
   "outputs": [
    {
     "name": "stdout",
     "output_type": "stream",
     "text": [
      "epoch 1\n",
      "0.979800392375\n",
      "epoch 2\n",
      "0.98417449015\n",
      "epoch 3\n",
      "0.985637968525\n",
      "epoch 4\n",
      "0.986162911675\n",
      "epoch 5\n",
      "0.986437390475\n",
      "epoch 6\n",
      "0.9866019635500001\n",
      "epoch 7\n",
      "0.9867227932249999\n",
      "epoch 8\n",
      "0.986798826625\n",
      "epoch 9\n",
      "0.986867110175\n",
      "epoch 10\n",
      "0.9869109382499999\n",
      "epoch 11\n",
      "0.986949348125\n",
      "epoch 12\n",
      "0.9869678563750001\n",
      "epoch 13\n",
      "0.9869862528000001\n",
      "epoch 14\n",
      "0.9870067666500002\n",
      "epoch 15\n",
      "0.987019194575\n",
      "epoch 16\n",
      "0.987026758325\n",
      "epoch 17\n",
      "0.987036052075\n",
      "epoch 18\n",
      "0.987041879375\n",
      "epoch 19\n",
      "0.987056093225\n",
      "epoch 20\n",
      "0.9870538464750002\n",
      "epoch 21\n",
      "0.9870643209500001\n",
      "epoch 22\n",
      "0.98706524075\n",
      "epoch 23\n",
      "0.9870591742750001\n",
      "epoch 24\n",
      "0.9870703777249998\n",
      "epoch 25\n",
      "0.987077032425\n",
      "epoch 26\n",
      "0.987072336075\n",
      "epoch 27\n",
      "0.987078840625\n",
      "epoch 28\n",
      "0.987082217325\n",
      "epoch 29\n",
      "0.987082838225\n",
      "epoch 30\n",
      "0.9870833164500001\n"
     ]
    }
   ],
   "source": [
    "classifier = SGDClassifier(\n",
    "    loss='log',\n",
    "    penalty='elasticnet',\n",
    "    alpha=1e-8,\n",
    "    l1_ratio=0.2\n",
    ")\n",
    "\n",
    "for i in range(30):\n",
    "    print('epoch', i+1)\n",
    "    classifier.partial_fit(x_train, y_train, classes=[0.0, 1.0])\n",
    "    y_predict = classifier.predict_proba(x_test)\n",
    "    print(roc_auc_score(y_test, y_predict[:, 1]))"
   ]
  },
  {
   "cell_type": "code",
   "execution_count": null,
   "metadata": {
    "collapsed": true
   },
   "outputs": [],
   "source": [
    "y_predict = classifier.predict_proba(x_test)\n",
    "\n",
    "with open('prediction.csv', 'w') as out:\n",
    "    print('Id,Probability', file=out)\n",
    "    for pair in enumerate(y_predict[:, 1], 1):\n",
    "        print('%i,%f' % pair, file=out)"
   ]
  }
 ],
 "metadata": {
  "kernelspec": {
   "display_name": "Python 3",
   "language": "python",
   "name": "python3"
  },
  "language_info": {
   "codemirror_mode": {
    "name": "ipython",
    "version": 3
   },
   "file_extension": ".py",
   "mimetype": "text/x-python",
   "name": "python",
   "nbconvert_exporter": "python",
   "pygments_lexer": "ipython3",
   "version": "3.6.1"
  }
 },
 "nbformat": 4,
 "nbformat_minor": 2
}
